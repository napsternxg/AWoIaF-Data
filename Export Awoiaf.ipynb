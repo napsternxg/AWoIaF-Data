{
 "cells": [
  {
   "cell_type": "markdown",
   "metadata": {},
   "source": [
    "# Export awoiaf.westeros.org\n",
    "\n",
    "This script will use the mediawiki export page to get all the data from http://awoiaf.westeros.org/index.php/Special:Export\n",
    "\n",
    "Author:\n",
    "    Shubhanshu Mishra\n"
   ]
  },
  {
   "cell_type": "code",
   "execution_count": 1,
   "metadata": {
    "collapsed": true
   },
   "outputs": [],
   "source": [
    "from urllib.parse import parse_qs, urlparse\n",
    "import requests\n",
    "from bs4 import BeautifulSoup"
   ]
  },
  {
   "cell_type": "code",
   "execution_count": 2,
   "metadata": {
    "collapsed": true
   },
   "outputs": [],
   "source": [
    "BASE_URL=\"http://awoiaf.westeros.org\"\n",
    "BASE_PATH=BASE_URL+\"/index.php?title=Category:A_Song_of_Ice_And_Fire_chapters\""
   ]
  },
  {
   "cell_type": "markdown",
   "metadata": {},
   "source": [
    "## Download process (manual)\n",
    "\n",
    "Go to `BASE_URL` and then in the console type the following:\n",
    "\n",
    "```\n",
    "$(\"#mw-pages > div > table > tbody > tr a\").each(function(i, a){console.log($(a).attr(\"href\"));})\n",
    "```\n",
    "\n",
    "This should print the list of 200 pages on this category pages.\n",
    "\n",
    "Get the link to the next page using\n",
    "```\n",
    "$($(\"#mw-pages > a\")[1]).attr(\"href\")\n",
    "```"
   ]
  },
  {
   "cell_type": "code",
   "execution_count": 3,
   "metadata": {
    "collapsed": true
   },
   "outputs": [],
   "source": [
    "response = requests.get(BASE_PATH)"
   ]
  },
  {
   "cell_type": "code",
   "execution_count": 4,
   "metadata": {},
   "outputs": [],
   "source": [
    "soup = BeautifulSoup(response.text, \"lxml\")"
   ]
  },
  {
   "cell_type": "code",
   "execution_count": 5,
   "metadata": {},
   "outputs": [
    {
     "name": "stdout",
     "output_type": "stream",
     "text": [
      "Chapters\n",
      "Chapters_Table_of_contents\n",
      "A_Clash_of_Kings-Prologue\n",
      "A_Clash_of_Kings-Chapter_1\n",
      "A_Clash_of_Kings-Chapter_2\n",
      "A_Clash_of_Kings-Chapter_3\n",
      "A_Clash_of_Kings-Chapter_4\n",
      "A_Clash_of_Kings-Chapter_5\n",
      "A_Clash_of_Kings-Chapter_6\n",
      "A_Clash_of_Kings-Chapter_7\n"
     ]
    }
   ],
   "source": [
    "for link in soup.select(\"#mw-pages > div > table > tr a\")[:10]:\n",
    "    print(link.attrs[\"href\"].rsplit(\"/\", 1)[-1])"
   ]
  },
  {
   "cell_type": "code",
   "execution_count": 6,
   "metadata": {},
   "outputs": [
    {
     "data": {
      "text/plain": [
       "{'href': '/index.php?title=Category:A_Song_of_Ice_And_Fire_chapters&pagefrom=A+Game+of+Thrones%3A+Chapter+09%0AA+Game+of+Thrones-Chapter+9#mw-pages',\n",
       " 'title': 'Category:A Song of Ice And Fire chapters'}"
      ]
     },
     "execution_count": 6,
     "metadata": {},
     "output_type": "execute_result"
    }
   ],
   "source": [
    "soup.select(\"#mw-pages > a\")[0].attrs"
   ]
  },
  {
   "cell_type": "code",
   "execution_count": 7,
   "metadata": {},
   "outputs": [
    {
     "data": {
      "text/plain": [
       "{'pagefrom': ['A Game of Thrones: Chapter 09\\nA Game of Thrones-Chapter 9'],\n",
       " 'title': ['Category:A_Song_of_Ice_And_Fire_chapters']}"
      ]
     },
     "execution_count": 7,
     "metadata": {},
     "output_type": "execute_result"
    }
   ],
   "source": [
    "parse_qs(urlparse(soup.select(\"#mw-pages > a\")[0].attrs[\"href\"]).query)"
   ]
  },
  {
   "cell_type": "code",
   "execution_count": 8,
   "metadata": {},
   "outputs": [
    {
     "data": {
      "text/plain": [
       "'/index.php?title=Category:A_Song_of_Ice_And_Fire_chapters&pageuntil=A+Game+of+Thrones%3A+Chapter+09%0AA+Game+of+Thrones-Chapter+9#mw-pages'"
      ]
     },
     "execution_count": 8,
     "metadata": {},
     "output_type": "execute_result"
    }
   ],
   "source": [
    "response = requests.get(BASE_URL+soup.select(\"#mw-pages > a\")[0].attrs[\"href\"])\n",
    "soup = BeautifulSoup(response.text, \"lxml\")\n",
    "soup.select(\"#mw-pages > a\")[0].attrs[\"href\"]"
   ]
  },
  {
   "cell_type": "code",
   "execution_count": 9,
   "metadata": {},
   "outputs": [
    {
     "data": {
      "text/plain": [
       "{'pageuntil': ['A Game of Thrones: Chapter 09\\nA Game of Thrones-Chapter 9'],\n",
       " 'title': ['Category:A_Song_of_Ice_And_Fire_chapters']}"
      ]
     },
     "execution_count": 9,
     "metadata": {},
     "output_type": "execute_result"
    }
   ],
   "source": [
    "parse_qs(urlparse(soup.select(\"#mw-pages > a\")[0].attrs[\"href\"]).query)"
   ]
  },
  {
   "cell_type": "code",
   "execution_count": 10,
   "metadata": {},
   "outputs": [
    {
     "data": {
      "text/plain": [
       "'/index.php?title=Category:A_Song_of_Ice_And_Fire_chapters&pagefrom=A+Game+of+Thrones%3A+Chapter+09%0AA+Game+of+Thrones-Chapter+9#mw-pages'"
      ]
     },
     "execution_count": 10,
     "metadata": {},
     "output_type": "execute_result"
    }
   ],
   "source": [
    "from urllib.parse import parse_qs, urlparse\n",
    "('/index.php?title=Category:A_Song_of_Ice_And_Fire_chapters&pagefrom=A+Game+of+Thrones%3A+Chapter+09%0AA+Game+of+Thrones-Chapter+9#mw-pages')"
   ]
  },
  {
   "cell_type": "code",
   "execution_count": 11,
   "metadata": {},
   "outputs": [
    {
     "data": {
      "text/plain": [
       "True"
      ]
     },
     "execution_count": 11,
     "metadata": {},
     "output_type": "execute_result"
    }
   ],
   "source": [
    "soup.select(\"#mw-pages > a\")[0].text.strip().startswith(\"previous\")"
   ]
  },
  {
   "cell_type": "code",
   "execution_count": 12,
   "metadata": {},
   "outputs": [
    {
     "data": {
      "text/plain": [
       "{'href': '/index.php?title=Category:A_Song_of_Ice_And_Fire_chapters&pageuntil=A+Game+of+Thrones%3A+Chapter+09%0AA+Game+of+Thrones-Chapter+9#mw-pages',\n",
       " 'title': 'Category:A Song of Ice And Fire chapters'}"
      ]
     },
     "execution_count": 12,
     "metadata": {},
     "output_type": "execute_result"
    }
   ],
   "source": [
    "soup.select(\"#mw-pages > a\")[0].attrs"
   ]
  },
  {
   "cell_type": "code",
   "execution_count": 13,
   "metadata": {
    "collapsed": true
   },
   "outputs": [],
   "source": [
    "def get_titles(base_path, final_titles=None, BASE_URL=\"\"):\n",
    "    if final_titles is None:\n",
    "        final_titles = set([])\n",
    "        \n",
    "    print(\"Processing {}\".format(base_path))\n",
    "    response = requests.get(base_path)\n",
    "    soup = BeautifulSoup(response.text, \"lxml\")\n",
    "    next_page = soup.select(\"#mw-pages > a\")[-1]\n",
    "    is_last_page = next_page.text.strip().startswith(\"previous\")\n",
    "    counter = 0\n",
    "    for link in soup.select(\"#mw-pages > div > table > tr a\"):\n",
    "        link = link.attrs[\"href\"].rsplit(\"/\", 1)[-1]\n",
    "        final_titles.add(link)\n",
    "        counter += 1\n",
    "    print(\"Found {} titles. Total titles = {}\".format(counter, len(final_titles)))\n",
    "    if not is_last_page:\n",
    "        base_path = BASE_URL + next_page.attrs[\"href\"]\n",
    "        final_titles = get_titles(base_path, final_titles, BASE_URL)\n",
    "    return final_titles"
   ]
  },
  {
   "cell_type": "code",
   "execution_count": 14,
   "metadata": {},
   "outputs": [
    {
     "name": "stdout",
     "output_type": "stream",
     "text": [
      "Processing http://awoiaf.westeros.org/index.php?title=Category:A_Song_of_Ice_And_Fire_chapters\n",
      "Found 200 titles. Total titles = 200\n",
      "Processing http://awoiaf.westeros.org/index.php?title=Category:A_Song_of_Ice_And_Fire_chapters&pagefrom=A+Game+of+Thrones%3A+Chapter+09%0AA+Game+of+Thrones-Chapter+9#mw-pages\n",
      "Found 154 titles. Total titles = 354\n"
     ]
    }
   ],
   "source": [
    "final_titles = get_titles(BASE_PATH, BASE_URL=BASE_URL)"
   ]
  },
  {
   "cell_type": "code",
   "execution_count": 15,
   "metadata": {
    "collapsed": true
   },
   "outputs": [],
   "source": [
    "def get_wikiXML(titles, base_path):\n",
    "    print(base_path)\n",
    "    data = {\n",
    "        \"pages\": \"\\r\\n\".join(titles),\n",
    "        \"curonly\": 1,\n",
    "        \"wpDownload\": 0\n",
    "    }\n",
    "    response = requests.post(base_path, data=data)\n",
    "    output_file = requests.utils.parse_header_links(\n",
    "        response.headers['Content-disposition']\n",
    "    )[0][\"filename\"]\n",
    "    with open(output_file, \"w+\") as fp:\n",
    "        print(response.content, file=fp)\n",
    "    print(\"Content saved to {}\".format(output_file))"
   ]
  },
  {
   "cell_type": "code",
   "execution_count": 16,
   "metadata": {},
   "outputs": [
    {
     "name": "stdout",
     "output_type": "stream",
     "text": [
      "http://awoiaf.westeros.org/index.php?title=Special:Export&action=submit\n",
      "Content saved to A+Wiki+of+Ice+and+Fire-20170802044241.xml\n"
     ]
    }
   ],
   "source": [
    "EXPORT_PATH=BASE_URL+\"/index.php?title=Special:Export&action=submit\"\n",
    "get_wikiXML(final_titles, EXPORT_PATH)"
   ]
  },
  {
   "cell_type": "code",
   "execution_count": null,
   "metadata": {
    "collapsed": true
   },
   "outputs": [],
   "source": []
  }
 ],
 "metadata": {
  "kernelspec": {
   "display_name": "Python [conda root]",
   "language": "python",
   "name": "conda-root-py"
  },
  "language_info": {
   "codemirror_mode": {
    "name": "ipython",
    "version": 3
   },
   "file_extension": ".py",
   "mimetype": "text/x-python",
   "name": "python",
   "nbconvert_exporter": "python",
   "pygments_lexer": "ipython3",
   "version": "3.5.2"
  }
 },
 "nbformat": 4,
 "nbformat_minor": 2
}
